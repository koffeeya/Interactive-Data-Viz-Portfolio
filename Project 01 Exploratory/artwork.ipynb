{
  "nbformat": 4,
  "nbformat_minor": 0,
  "metadata": {
    "colab": {
      "name": "artwork.ipynb",
      "provenance": [],
      "collapsed_sections": []
    },
    "kernelspec": {
      "name": "python3",
      "display_name": "Python 3"
    }
  },
  "cells": [
    {
      "cell_type": "code",
      "execution_count": null,
      "metadata": {},
      "outputs": [
        {
          "ename": "Error",
          "evalue": "Activating Python 3.6.5 64-bit (conda) to run Jupyter failed with Error: Command failed: C:/Users/Kavya/Anaconda3/Scripts/activate && conda activate Anaconda3 && echo 'e8b39361-0157-4923-80e1-22d70d46dee6' && python c:/Users/Kavya/.vscode/extensions/ms-python.python-2020.2.64397/pythonFiles/printEnvVariables.py\nCould not find conda environment: Anaconda3\r\nYou can list all discoverable environments with `conda info --envs`.\r\n\r\n.",
          "output_type": "error",
          "traceback": [
            "Error: Activating Python 3.6.5 64-bit (conda) to run Jupyter failed with Error: Command failed: C:/Users/Kavya/Anaconda3/Scripts/activate && conda activate Anaconda3 && echo 'e8b39361-0157-4923-80e1-22d70d46dee6' && python c:/Users/Kavya/.vscode/extensions/ms-python.python-2020.2.64397/pythonFiles/printEnvVariables.py",
            "Could not find conda environment: Anaconda3",
            "You can list all discoverable environments with `conda info --envs`.",
            ".",
            "at A.checkUsable (c:\\Users\\Kavya\\.vscode\\extensions\\ms-python.python-2020.2.64397\\out\\client\\extension.js:1:794715)"
          ]
        }
      ],
      "source": [
        "import pandas as pd\n",
        "import numpy as np\n",
        "from skimage import data, io, filters"
      ]
    },
    {
      "cell_type": "code",
      "execution_count": null,
      "metadata": {},
      "outputs": [
        {
          "ename": "Error",
          "evalue": "Activating Python 3.6.5 64-bit (conda) to run Jupyter failed with Error: Command failed: C:/Users/Kavya/Anaconda3/Scripts/activate && conda activate Anaconda3 && echo 'e8b39361-0157-4923-80e1-22d70d46dee6' && python c:/Users/Kavya/.vscode/extensions/ms-python.python-2020.2.64397/pythonFiles/printEnvVariables.py\nCould not find conda environment: Anaconda3\r\nYou can list all discoverable environments with `conda info --envs`.\r\n\r\n.",
          "output_type": "error",
          "traceback": [
            "Error: Activating Python 3.6.5 64-bit (conda) to run Jupyter failed with Error: Command failed: C:/Users/Kavya/Anaconda3/Scripts/activate && conda activate Anaconda3 && echo 'e8b39361-0157-4923-80e1-22d70d46dee6' && python c:/Users/Kavya/.vscode/extensions/ms-python.python-2020.2.64397/pythonFiles/printEnvVariables.py",
            "Could not find conda environment: Anaconda3",
            "You can list all discoverable environments with `conda info --envs`.",
            ".",
            "at A.checkUsable (c:\\Users\\Kavya\\.vscode\\extensions\\ms-python.python-2020.2.64397\\out\\client\\extension.js:1:794715)"
          ]
        }
      ],
      "source": [
        "# Get data from MoMA GitHub\n",
        "raw = pd.read_csv(\"https://media.githubusercontent.com/media/MuseumofModernArt/collection/master/Artworks.csv\")\n",
        "#raw.head()"
      ]
    },
    {
      "cell_type": "code",
      "execution_count": null,
      "metadata": {},
      "outputs": [
        {
          "ename": "Error",
          "evalue": "Activating Python 3.6.5 64-bit (conda) to run Jupyter failed with Error: Command failed: C:/Users/Kavya/Anaconda3/Scripts/activate && conda activate Anaconda3 && echo 'e8b39361-0157-4923-80e1-22d70d46dee6' && python c:/Users/Kavya/.vscode/extensions/ms-python.python-2020.2.64397/pythonFiles/printEnvVariables.py\nCould not find conda environment: Anaconda3\r\nYou can list all discoverable environments with `conda info --envs`.\r\n\r\n.",
          "output_type": "error",
          "traceback": [
            "Error: Activating Python 3.6.5 64-bit (conda) to run Jupyter failed with Error: Command failed: C:/Users/Kavya/Anaconda3/Scripts/activate && conda activate Anaconda3 && echo 'e8b39361-0157-4923-80e1-22d70d46dee6' && python c:/Users/Kavya/.vscode/extensions/ms-python.python-2020.2.64397/pythonFiles/printEnvVariables.py",
            "Could not find conda environment: Anaconda3",
            "You can list all discoverable environments with `conda info --envs`.",
            ".",
            "at A.checkUsable (c:\\Users\\Kavya\\.vscode\\extensions\\ms-python.python-2020.2.64397\\out\\client\\extension.js:1:794715)"
          ]
        }
      ],
      "source": [
        "# Clean up fields with parentheses and dates\n",
        "raw['ArtistBio'] = raw['ArtistBio'].str.replace('\\(*\\)*', '')\n",
        "raw['Nationality'] = raw['Nationality'].str.replace('\\(*\\)*', '')\n",
        "raw['Date'] = raw['Date'].str.replace('[^\\d{3,}]', '')\n",
        "raw['Date'] = raw['Date'].str.replace('\\d{1,2},', '')\n",
        "raw['Date'] = raw['Date'].str.replace('\\D', '')\n",
        "raw['Gender'] = raw['Gender'].str.replace('\\(*\\)*', '')"
      ]
    },
    {
      "cell_type": "code",
      "execution_count": null,
      "metadata": {},
      "outputs": [
        {
          "ename": "Error",
          "evalue": "Activating Python 3.6.5 64-bit (conda) to run Jupyter failed with Error: Command failed: C:/Users/Kavya/Anaconda3/Scripts/activate && conda activate Anaconda3 && echo 'e8b39361-0157-4923-80e1-22d70d46dee6' && python c:/Users/Kavya/.vscode/extensions/ms-python.python-2020.2.64397/pythonFiles/printEnvVariables.py\nCould not find conda environment: Anaconda3\r\nYou can list all discoverable environments with `conda info --envs`.\r\n\r\n.",
          "output_type": "error",
          "traceback": [
            "Error: Activating Python 3.6.5 64-bit (conda) to run Jupyter failed with Error: Command failed: C:/Users/Kavya/Anaconda3/Scripts/activate && conda activate Anaconda3 && echo 'e8b39361-0157-4923-80e1-22d70d46dee6' && python c:/Users/Kavya/.vscode/extensions/ms-python.python-2020.2.64397/pythonFiles/printEnvVariables.py",
            "Could not find conda environment: Anaconda3",
            "You can list all discoverable environments with `conda info --envs`.",
            ".",
            "at A.checkUsable (c:\\Users\\Kavya\\.vscode\\extensions\\ms-python.python-2020.2.64397\\out\\client\\extension.js:1:794715)"
          ]
        }
      ],
      "source": [
        "# Select specific columns and replace NaNs with 0\n",
        "df = raw[['ObjectID', 'Title', 'Artist', 'ArtistBio', 'Gender', 'Date', 'Medium', 'Dimensions', 'Classification', 'Department', 'ThumbnailURL']]\n",
        "df = pd.DataFrame(df)\n",
        "df = df.fillna(0)"
      ]
    },
    {
      "cell_type": "code",
      "execution_count": null,
      "metadata": {},
      "outputs": [
        {
          "ename": "Error",
          "evalue": "Activating Python 3.6.5 64-bit (conda) to run Jupyter failed with Error: Command failed: C:/Users/Kavya/Anaconda3/Scripts/activate && conda activate Anaconda3 && echo 'e8b39361-0157-4923-80e1-22d70d46dee6' && python c:/Users/Kavya/.vscode/extensions/ms-python.python-2020.2.64397/pythonFiles/printEnvVariables.py\nCould not find conda environment: Anaconda3\r\nYou can list all discoverable environments with `conda info --envs`.\r\n\r\n.",
          "output_type": "error",
          "traceback": [
            "Error: Activating Python 3.6.5 64-bit (conda) to run Jupyter failed with Error: Command failed: C:/Users/Kavya/Anaconda3/Scripts/activate && conda activate Anaconda3 && echo 'e8b39361-0157-4923-80e1-22d70d46dee6' && python c:/Users/Kavya/.vscode/extensions/ms-python.python-2020.2.64397/pythonFiles/printEnvVariables.py",
            "Could not find conda environment: Anaconda3",
            "You can list all discoverable environments with `conda info --envs`.",
            ".",
            "at A.checkUsable (c:\\Users\\Kavya\\.vscode\\extensions\\ms-python.python-2020.2.64397\\out\\client\\extension.js:1:794715)"
          ]
        }
      ],
      "source": [
        "# Only show works that (1) have a unique thumbnail URL, (2) are paintings, and \n",
        "# (3) are from artists who have 10 or more items in the collection\n",
        "df = df[(raw.ThumbnailURL != 0) & (raw.Classification == \"Painting\")]\n",
        "df = df.drop_duplicates(\"ThumbnailURL\")\n",
        "df = df.groupby('Artist').filter(lambda x : len(x)>9)\n",
        "\n",
        "# Add empty columns for RGB channels\n",
        "df[\"r\"] = 0\n",
        "df[\"g\"] = 0\n",
        "df[\"b\"] = 0\n",
        "df"
      ]
    },
    {
      "cell_type": "code",
      "execution_count": null,
      "metadata": {},
      "outputs": [
        {
          "ename": "Error",
          "evalue": "Activating Python 3.6.5 64-bit (conda) to run Jupyter failed with Error: Command failed: C:/Users/Kavya/Anaconda3/Scripts/activate && conda activate Anaconda3 && echo 'e8b39361-0157-4923-80e1-22d70d46dee6' && python c:/Users/Kavya/.vscode/extensions/ms-python.python-2020.2.64397/pythonFiles/printEnvVariables.py\nCould not find conda environment: Anaconda3\r\nYou can list all discoverable environments with `conda info --envs`.\r\n\r\n.",
          "output_type": "error",
          "traceback": [
            "Error: Activating Python 3.6.5 64-bit (conda) to run Jupyter failed with Error: Command failed: C:/Users/Kavya/Anaconda3/Scripts/activate && conda activate Anaconda3 && echo 'e8b39361-0157-4923-80e1-22d70d46dee6' && python c:/Users/Kavya/.vscode/extensions/ms-python.python-2020.2.64397/pythonFiles/printEnvVariables.py",
            "Could not find conda environment: Anaconda3",
            "You can list all discoverable environments with `conda info --envs`.",
            ".",
            "at A.checkUsable (c:\\Users\\Kavya\\.vscode\\extensions\\ms-python.python-2020.2.64397\\out\\client\\extension.js:1:794715)"
          ]
        }
      ],
      "source": [
        "# Loop through each image URL and pull the avg RGB values into empty arrays\n",
        "\n",
        "red_values = []\n",
        "green_values = []\n",
        "blue_values = []\n",
        "\n",
        "def getRGBMean (data):\n",
        "\n",
        "  for n in range(0, len(data)):\n",
        "\n",
        "    # Read image URL into a numpy array\n",
        "    img = io.imread(data[n])\n",
        "\n",
        "    # If the array has 3 dimensions (i.e. 3 color channels)\n",
        "    if len(img.shape) == 3:\n",
        "\n",
        "      # Pull the average red value\n",
        "      r = img[:,:,0]\n",
        "      r_mean = round(np.mean(r),0)\n",
        "      red_values.append(r_mean)\n",
        "\n",
        "      # Pull the average green value\n",
        "      g = img[:,:,1]\n",
        "      g_mean = round(np.mean(g),0)\n",
        "      green_values.append(g_mean)\n",
        "\n",
        "      # Pull the average blue value\n",
        "      b = img[:,:,2]\n",
        "      b_mean = round(np.mean(b),0)\n",
        "      blue_values.append(b_mean)\n",
        "      \n",
        "    # Else pass if image has 2 dimensions (i.e. 2 color channels)\n",
        "    else:\n",
        "      print(\"passed\", n)\n",
        "      pass"
      ]
    },
    {
      "cell_type": "code",
      "execution_count": null,
      "metadata": {},
      "outputs": [
        {
          "ename": "Error",
          "evalue": "Activating Python 3.6.5 64-bit (conda) to run Jupyter failed with Error: Command failed: C:/Users/Kavya/Anaconda3/Scripts/activate && conda activate Anaconda3 && echo 'e8b39361-0157-4923-80e1-22d70d46dee6' && python c:/Users/Kavya/.vscode/extensions/ms-python.python-2020.2.64397/pythonFiles/printEnvVariables.py\nCould not find conda environment: Anaconda3\r\nYou can list all discoverable environments with `conda info --envs`.\r\n\r\n.",
          "output_type": "error",
          "traceback": [
            "Error: Activating Python 3.6.5 64-bit (conda) to run Jupyter failed with Error: Command failed: C:/Users/Kavya/Anaconda3/Scripts/activate && conda activate Anaconda3 && echo 'e8b39361-0157-4923-80e1-22d70d46dee6' && python c:/Users/Kavya/.vscode/extensions/ms-python.python-2020.2.64397/pythonFiles/printEnvVariables.py",
            "Could not find conda environment: Anaconda3",
            "You can list all discoverable environments with `conda info --envs`.",
            ".",
            "at A.checkUsable (c:\\Users\\Kavya\\.vscode\\extensions\\ms-python.python-2020.2.64397\\out\\client\\extension.js:1:794715)"
          ]
        }
      ],
      "source": [
        "# Apply function to Thumbnail URL column\n",
        "getRGBMean(np.array(df.ThumbnailURL))\n",
        "print(len(red_values), len(green_values), len(blue_values))"
      ]
    },
    {
      "cell_type": "code",
      "execution_count": null,
      "metadata": {},
      "outputs": [
        {
          "ename": "Error",
          "evalue": "Activating Python 3.6.5 64-bit (conda) to run Jupyter failed with Error: Command failed: C:/Users/Kavya/Anaconda3/Scripts/activate && conda activate Anaconda3 && echo 'e8b39361-0157-4923-80e1-22d70d46dee6' && python c:/Users/Kavya/.vscode/extensions/ms-python.python-2020.2.64397/pythonFiles/printEnvVariables.py\nCould not find conda environment: Anaconda3\r\nYou can list all discoverable environments with `conda info --envs`.\r\n\r\n.",
          "output_type": "error",
          "traceback": [
            "Error: Activating Python 3.6.5 64-bit (conda) to run Jupyter failed with Error: Command failed: C:/Users/Kavya/Anaconda3/Scripts/activate && conda activate Anaconda3 && echo 'e8b39361-0157-4923-80e1-22d70d46dee6' && python c:/Users/Kavya/.vscode/extensions/ms-python.python-2020.2.64397/pythonFiles/printEnvVariables.py",
            "Could not find conda environment: Anaconda3",
            "You can list all discoverable environments with `conda info --envs`.",
            ".",
            "at A.checkUsable (c:\\Users\\Kavya\\.vscode\\extensions\\ms-python.python-2020.2.64397\\out\\client\\extension.js:1:794715)"
          ]
        }
      ],
      "source": [
        "df[\"r\"] = red_values\n",
        "df[\"g\"] = green_values\n",
        "df[\"b\"] = blue_values\n",
        "df"
      ]
    }
  ]
}